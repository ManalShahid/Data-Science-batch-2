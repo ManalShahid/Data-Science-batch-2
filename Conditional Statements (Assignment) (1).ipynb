{
 "cells": [
  {
   "cell_type": "markdown",
   "metadata": {},
   "source": [
    "1) A company decided to give bonus of 5% to employee if his/her year of service is more than 5 years.\n",
    "Ask user for their salary and year of service and print the net bonus amount."
   ]
  },
  {
   "cell_type": "code",
   "execution_count": 1,
   "metadata": {},
   "outputs": [
    {
     "name": "stdout",
     "output_type": "stream",
     "text": [
      "The bonus is 2.2\n"
     ]
    }
   ],
   "source": [
    "s=int(input(\"enter your salary: \"))\n",
    "y=int(input(\"enter year of service: \"))\n",
    "if (y>5) :\n",
    "    print (\"The bonus is\", s*0.05)"
   ]
  },
  {
   "cell_type": "markdown",
   "metadata": {},
   "source": [
    "\n",
    "2) Write a program to check whether a person is eligible for voting or not. (accept age from user) if age is greater than 17 eligible otherwise not eligible"
   ]
  },
  {
   "cell_type": "code",
   "execution_count": 2,
   "metadata": {},
   "outputs": [
    {
     "name": "stdout",
     "output_type": "stream",
     "text": [
      "Eligible\n"
     ]
    }
   ],
   "source": [
    "age=int(input(\"enter an age;\"))\n",
    "if age > 17 :\n",
    "    print (\"Eligible\")\n",
    "else:\n",
    "    print(\"Not eligible\")    "
   ]
  },
  {
   "cell_type": "markdown",
   "metadata": {},
   "source": [
    "\n",
    "3) Write a program to check whether a number entered by user is even or odd."
   ]
  },
  {
   "cell_type": "code",
   "execution_count": 3,
   "metadata": {},
   "outputs": [
    {
     "name": "stdout",
     "output_type": "stream",
     "text": [
      "even\n"
     ]
    }
   ],
   "source": [
    "n=int(input(\"enter a number;\"))\n",
    "if n%2 ==0:\n",
    "    print (\"even\")\n",
    "else :\n",
    "    print (\"odd\")    "
   ]
  },
  {
   "cell_type": "markdown",
   "metadata": {},
   "source": [
    "4) Write a program to check whether a number is divisible by 7 or not.\n",
    "Show Answer"
   ]
  },
  {
   "cell_type": "code",
   "execution_count": 4,
   "metadata": {},
   "outputs": [
    {
     "name": "stdout",
     "output_type": "stream",
     "text": [
      "it is not divisible by 7\n"
     ]
    }
   ],
   "source": [
    "n=int(input(\"enter a number\"))\n",
    "if n%7 ==0:\n",
    "    print(\"it is divisible by 7\")\n",
    "else:\n",
    "    print(\"it is not divisible by 7\")"
   ]
  },
  {
   "cell_type": "markdown",
   "metadata": {},
   "source": [
    "5) Write a program to display \n",
    "\"Hello\" if a number entered by user is a multiple of five , otherwise print \"Bye\"."
   ]
  },
  {
   "cell_type": "code",
   "execution_count": null,
   "metadata": {},
   "outputs": [],
   "source": [
    "n=int(input(\"enter a number;\"))\n",
    "if n%5==0:\n",
    "    print(\"Hello\")\n",
    "else:\n",
    "    print(\"Bye\")    "
   ]
  },
  {
   "cell_type": "markdown",
   "metadata": {},
   "source": [
    "7) Write a program to display the last digit of a number.\n"
   ]
  },
  {
   "cell_type": "code",
   "execution_count": null,
   "metadata": {},
   "outputs": [],
   "source": [
    "n=str(input(\"enter a number:\"))\n",
    "print(n[-1])"
   ]
  },
  {
   "cell_type": "markdown",
   "metadata": {},
   "source": [
    "9) Take values of length and breadth of a rectangle from user and print if it is square or rectangle."
   ]
  },
  {
   "cell_type": "code",
   "execution_count": 5,
   "metadata": {},
   "outputs": [
    {
     "name": "stdout",
     "output_type": "stream",
     "text": [
      "it is rectangle\n"
     ]
    }
   ],
   "source": [
    "l=int(input(\"enter length of a rectangle;\"))\n",
    "b=int(input(\"enter breadth of a rectangle\")) \n",
    "if l!=b :\n",
    "    print (\"it is rectangle\")\n",
    "else :\n",
    "    print (\"it is a square\")\n",
    "    "
   ]
  },
  {
   "cell_type": "markdown",
   "metadata": {},
   "source": [
    "10) Take two int values from user and print greatest among them."
   ]
  },
  {
   "cell_type": "code",
   "execution_count": 6,
   "metadata": {},
   "outputs": [
    {
     "name": "stdout",
     "output_type": "stream",
     "text": [
      "33\n"
     ]
    }
   ],
   "source": [
    "n1=int(input(\"enter a number:\"))\n",
    "n2=int(input(\"enter a number:\"))\n",
    "if n1 > n2 :\n",
    "    print(n1)\n",
    "else:\n",
    "    print(n2)"
   ]
  },
  {
   "cell_type": "markdown",
   "metadata": {},
   "source": [
    "11) A shop will give discount of 10% if the cost of purchased quantity is more than 1000.\n",
    "Ask user for quantity\n",
    "Suppose, one unit will cost 100.\n",
    "Judge and print total cost for user."
   ]
  },
  {
   "cell_type": "code",
   "execution_count": 11,
   "metadata": {},
   "outputs": [
    {
     "name": "stdout",
     "output_type": "stream",
     "text": [
      "The total cost for user is 1287.0\n"
     ]
    }
   ],
   "source": [
    "q=int(input(\"enter a quantity:\"))\n",
    "cost=q*100\n",
    "d=0.01\n",
    "if cost >1000:\n",
    "    print (\"The total cost for user is\",cost-cost*d)\n",
    "else:\n",
    "    print(\"The total cost for user is\",cost)"
   ]
  },
  {
   "cell_type": "markdown",
   "metadata": {},
   "source": [
    "12) A school has following rules for grading system:\n",
    "\n",
    "a. Below 25 - F\n",
    "\n",
    "b. 25 to 45 - E\n",
    "\n",
    "c. 45 to 50 - D\n",
    "\n",
    "d. 50 to 60 - C\n",
    "\n",
    "e. 60 to 80 - B\n",
    "\n",
    "f. Above 80 - A\n",
    "\n",
    "Ask user to enter marks and print the corresponding grade."
   ]
  },
  {
   "cell_type": "code",
   "execution_count": 13,
   "metadata": {},
   "outputs": [
    {
     "name": "stdout",
     "output_type": "stream",
     "text": [
      "the grade is F\n"
     ]
    }
   ],
   "source": [
    "m=int(input(\"enter marks:\"))\n",
    "if m> 80:\n",
    "    print(\"the grade is A\")\n",
    "elif m>=60 and m<=80:\n",
    "    print(\"the grade is B\")\n",
    "elif m>=50 and m<=60:\n",
    "    print(\"the grade is C\")\n",
    "elif m>=45 and m<=50:\n",
    "    print(\"the grade is D\")\n",
    "elif m>=25 and m<=45:\n",
    "    print(\"the grade is E\")\n",
    "else:\n",
    "    print(\"the grade is F\")"
   ]
  },
  {
   "cell_type": "markdown",
   "metadata": {},
   "source": [
    "14)A student will not be allowed to sit in exam if his/her attendence is less than 75%.\n",
    "\n",
    "Take following input from user\n",
    "\n",
    "Number of classes held\n",
    "\n",
    "Number of classes attended.\n",
    "\n",
    "And print\n",
    "\n",
    "percentage of class attended\n",
    "\n",
    "Is student is allowed to sit in exam or not.\n"
   ]
  },
  {
   "cell_type": "code",
   "execution_count": 6,
   "metadata": {},
   "outputs": [
    {
     "name": "stdout",
     "output_type": "stream",
     "text": [
      "Percentage of class attended 24.0 % Not allowed to sit in exam\n"
     ]
    }
   ],
   "source": [
    "ch=int(input(\"enter number of classes held:\"))\n",
    "ca=int(input(\"enter number of classes attended:\"))\n",
    "p=ca/ch*100\n",
    "if p > 75:\n",
    "    print(\"Percentage of class attended\",p,\"%\",\"allowed to sit in exam\")\n",
    "else :\n",
    "    print(\"Percentage of class attended\",p,\"%\",\"Not allowed to sit in exam\")\n"
   ]
  },
  {
   "cell_type": "markdown",
   "metadata": {},
   "source": [
    "15) Modify the above question to allow student to sit if he/she has medical cause. Ask user if he/she has medical cause or not ( 'Y' or 'N' ) and print accordingly."
   ]
  },
  {
   "cell_type": "code",
   "execution_count": 12,
   "metadata": {},
   "outputs": [
    {
     "name": "stdout",
     "output_type": "stream",
     "text": [
      "Percentage of class attended 55.00000000000001 % allowed to sit in exam\n"
     ]
    }
   ],
   "source": [
    "ch=int(input(\"enter number of classes held:\"))\n",
    "ca=int(input(\"enter number of classes attended:\"))\n",
    "m=input(\"enter if you have any medical cause Y for YES and N for NO\")\n",
    "p=ca/ch*100\n",
    "if p > 75 or m==\"Y\":\n",
    "    print(\"Percentage of class attended\",p,\"%\",\"allowed to sit in exam\")\n",
    "else :\n",
    "    print(\"Percentage of class attended\",p,\"%\",\"Not allowed to sit in exam\")\n"
   ]
  },
  {
   "cell_type": "markdown",
   "metadata": {},
   "source": [
    "16) Write a program to check if a year is leap year or not.\n",
    "\n",
    "If a year is divisible by 4 then it is leap year but if the year is century year like 2000, 1900, 2100 then it must be divisible by 400."
   ]
  },
  {
   "cell_type": "code",
   "execution_count": 14,
   "metadata": {},
   "outputs": [
    {
     "name": "stdout",
     "output_type": "stream",
     "text": [
      "it is a leap year 1600\n"
     ]
    }
   ],
   "source": [
    "y=int(input(\"enter a year:\"))\n",
    "if y%4==0 and y%400==0:\n",
    "    print(\"it is a leap year\",y)\n",
    "else:\n",
    "    print(\"it is not a leap year\",y)    "
   ]
  },
  {
   "cell_type": "markdown",
   "metadata": {},
   "source": [
    "17) Ask user to enter age, gender ( M or F ), marital status ( Y or N ) and then using following rules print their place of service.\n",
    "\n",
    "if employee is female, then she will work only in urban areas.\n",
    "\n",
    "if employee is a male and age is in between 20 to 40 then he may work in anywhere\n",
    "\n",
    "if employee is male and age is in between 40 t0 60 then he will work in urban areas only.\n",
    "\n",
    "And any other input of age should print \"ERROR\""
   ]
  },
  {
   "cell_type": "code",
   "execution_count": 3,
   "metadata": {},
   "outputs": [
    {
     "name": "stdout",
     "output_type": "stream",
     "text": [
      "You my work anywhere\n"
     ]
    }
   ],
   "source": [
    "a=int(input(\"enter your age:\"))\n",
    "g=input(\"enter your gender M or F:\")\n",
    "ms=input(\"enter your martial status Y or N:\")\n",
    "if g==\"F\":\n",
    "    print(\"You work in urban areas\")\n",
    "elif g==\"M\" and a>=20 and a<=40:\n",
    "    print(\"You my work anywhere\")\n",
    "elif g==\"M\" and a>=40 and a<=60:\n",
    "    print(\"You work in urban areas only\")\n",
    "else:\n",
    "    print(\"ERROR\")\n"
   ]
  },
  {
   "cell_type": "code",
   "execution_count": null,
   "metadata": {},
   "outputs": [],
   "source": []
  },
  {
   "cell_type": "markdown",
   "metadata": {},
   "source": [
    "6) Write a program to calculate the electricity bill (accept number of unit from user) according to the following criteria :\n",
    "     Unit                                                     Price  \n",
    "uptp 100 units                                             no charge\n",
    "Next 200 units                                              Rs 5 per unit\n",
    "After 200 units                                             Rs 10 per unit\n",
    "(For example if input unit is 350 than total bill amount is Rs.3500\n",
    "(For example if input unit is 97 than total bill amount is Rs.0\n",
    "(For example if input unit is 150 than total bill amount is Rs.750"
   ]
  },
  {
   "cell_type": "code",
   "execution_count": 8,
   "metadata": {},
   "outputs": [
    {
     "name": "stdout",
     "output_type": "stream",
     "text": [
      "your bill is  750\n"
     ]
    }
   ],
   "source": [
    "u=int(input(\"enter no of unit:\"))\n",
    "if u<=100:\n",
    "    print(\"no charge\")\n",
    "elif u>100 and u<=200:\n",
    "    print(\"your bill is \",u*5)\n",
    "elif u>200:\n",
    "    print(\"your bill is\",u*10)\n"
   ]
  },
  {
   "cell_type": "markdown",
   "metadata": {},
   "source": [
    "13) Take input of age of 3 people by user and determine oldest and youngest among them."
   ]
  },
  {
   "cell_type": "code",
   "execution_count": 14,
   "metadata": {},
   "outputs": [
    {
     "name": "stdout",
     "output_type": "stream",
     "text": [
      "a3 is oldest 70\n",
      "a2 is youngest 12\n"
     ]
    }
   ],
   "source": [
    "a1=int(input(\"enter an age:\"))\n",
    "a2=int(input(\"enter an age:\"))\n",
    "a3=int(input(\"enter an age:\"))\n",
    "if a1>a2 and a1>a3:\n",
    "    print ( \"a1 is oldest\",a1)\n",
    "elif a2>a1 and a2>a3:\n",
    "    print(\"a2 is oldest\",a2)\n",
    "elif a3>a2 and a3>a1:\n",
    "    print(\"a3 is oldest\",a3)\n",
    "if a1<a2 and a1<a3:\n",
    "    print(\"a1 is youngest\",a1)\n",
    "elif a2<a1 and a2<a3:\n",
    "    print(\"a2 is youngest\",a2)\n",
    "elif a3<a1 and a3<a2:\n",
    "    print(\"a3 is youngest\",a3)\n",
    "\n",
    "\n"
   ]
  }
 ],
 "metadata": {
  "kernelspec": {
   "display_name": "Python 3 (ipykernel)",
   "language": "python",
   "name": "python3"
  },
  "language_info": {
   "codemirror_mode": {
    "name": "ipython",
    "version": 3
   },
   "file_extension": ".py",
   "mimetype": "text/x-python",
   "name": "python",
   "nbconvert_exporter": "python",
   "pygments_lexer": "ipython3",
   "version": "3.11.8"
  }
 },
 "nbformat": 4,
 "nbformat_minor": 2
}
