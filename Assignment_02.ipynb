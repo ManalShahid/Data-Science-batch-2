{
  "cells": [
    {
      "cell_type": "markdown",
      "metadata": {
        "id": "bb0O0xtk1v9t"
      },
      "source": [
        "## Task 01:\n",
        "\n",
        "Print Your Name with your Father name and Date of birth using suitable escape sequence charactor\n",
        "\n"
      ]
    },
    {
      "cell_type": "code",
      "execution_count": null,
      "metadata": {
        "id": "U7LLGIkO2Ixa"
      },
      "outputs": [],
      "source": [
        "print(\"My name is \\\"Manal Shahid\\\"\\nMy date of birth is \\\" 9 september 2002\\\"\")"
      ]
    },
    {
      "cell_type": "markdown",
      "metadata": {
        "id": "TU-xwiLV2NgB"
      },
      "source": [
        "# Task 02:\n",
        "\n",
        "Write your small bio using variables and print it using print function"
      ]
    },
    {
      "cell_type": "code",
      "execution_count": null,
      "metadata": {
        "id": "Dw8w3rwl2wDB"
      },
      "outputs": [],
      "source": [
        "a=(\"My name is Manal Shahid\")\n",
        "b=(\"I am student of Computational Finace in NED University\")\n",
        "c=(\"I love learning new things\")\n",
        "d=(\"I enjoy watching cricket\")\n",
        "print(a,b,c,d)"
      ]
    },
    {
      "cell_type": "markdown",
      "metadata": {
        "id": "F2lcZuDe2ztv"
      },
      "source": [
        "# Task 03:\n",
        "\n",
        "Write a program in which use all the operators we can use in Python"
      ]
    },
    {
      "cell_type": "code",
      "execution_count": null,
      "metadata": {
        "id": "lEJhzsXh3e7K"
      },
      "outputs": [],
      "source": [
        "a=int(input(\"enter a number\"))\n",
        "b=int(input(\"enter a number\"))\n",
        "print(\"The summation is\" ,a+b)\n",
        "print(\"The subtraction is\" ,a-b)\n",
        "print(\"The multiplication is\" ,a*b)\n",
        "print(\"The division is\" ,a/b)\n",
        "print(\"The remainder is\" ,a%b)\n",
        "print(\"The square of b is\",b**2)\n",
        "print(\"The floor division\" , a//b)\n"
      ]
    },
    {
      "cell_type": "markdown",
      "metadata": {
        "id": "i4N14TJU3l7n"
      },
      "source": [
        "# Task 04:\n",
        "\n",
        "\n",
        "1. Mention Marks of English , Islamiat and Maths out of 100 in 3 different variables\n",
        "\n",
        "2. Mention Variable of Total Marks and assign 300 to it\n",
        "\n",
        "3. Calculate Percentage"
      ]
    },
    {
      "cell_type": "code",
      "execution_count": null,
      "metadata": {
        "id": "nxojzvRg5PP4"
      },
      "outputs": [],
      "source": [
        "a=float(input(\"Enter marks of English:\"))\n",
        "b=float(input(\"Enter marks of Islamiat:\"))\n",
        "c=float(input(\"Enter marks of Maths\"))\n",
        "t=300\n",
        "p=((a+b+c)/t)*100\n",
        "print(p)"
      ]
    }
  ],
  "metadata": {
    "colab": {
      "provenance": []
    },
    "kernelspec": {
      "display_name": "Python 3",
      "name": "python3"
    },
    "language_info": {
      "name": "python"
    }
  },
  "nbformat": 4,
  "nbformat_minor": 0
}
